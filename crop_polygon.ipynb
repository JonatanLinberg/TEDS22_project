{
 "cells": [
  {
   "cell_type": "code",
   "execution_count": 2,
   "metadata": {},
   "outputs": [],
   "source": [
    "import cv2 as cv\n",
    "import os\n",
    "import matplotlib.pyplot as plt\n",
    "import numpy as np\n",
    "import pandas as pd\n",
    "#pip install lxml\n",
    "from lxml import objectify\n",
    "from os import listdir\n",
    "import xml.etree.ElementTree as ET"
   ]
  },
  {
   "cell_type": "code",
   "execution_count": 34,
   "metadata": {},
   "outputs": [],
   "source": [
    "filepath='C:/Users/Miranda/Documents/Norditech_project/annotations.xml'\n",
    "path = 'C:/Users/Miranda/Documents/Norditech_project/label-project/data_2/' "
   ]
  },
  {
   "cell_type": "code",
   "execution_count": 20,
   "metadata": {},
   "outputs": [
    {
     "data": {
      "text/plain": [
       "'annotations'"
      ]
     },
     "execution_count": 20,
     "metadata": {},
     "output_type": "execute_result"
    }
   ],
   "source": [
    "tree = ET.parse('annotations.xml')\n",
    "root = tree.getroot()\n",
    "root.tag"
   ]
  },
  {
   "cell_type": "code",
   "execution_count": 36,
   "metadata": {},
   "outputs": [
    {
     "name": "stdout",
     "output_type": "stream",
     "text": [
      "['0144f887-d7b5-4bb0-bf17-283804071595.png', '028554f4-c7d8-4ab6-8b74-a6a6ac7c3f90.png', '0a11388a-a2f8-4ff4-bf5c-7e4c5f297751.png', '1031b0c7-eec4-4fa7-82cd-690e51b2cac1.png', '12cf2d0f-436f-4698-a501-2521e22264d1.png', '1613ff33-03cc-4d10-afb0-55ebf0722042.png', '18d7ad1f-0cfd-4563-9c81-9b41e5413f0d.png', '1ac3210d-e668-4946-9f0b-2c05b26a3653.png', '1c99c1cc-8b05-43ff-838c-d4da6c63a02a.png', '200c05c0-17d2-45d6-9c14-6abb5ef286c7.png', '217fc145-ea83-4b82-9c5c-d4d53a3d982a.png', '23355f0f-1bd9-4339-aa95-db16fb7436ed.png', '24f0324c-84d1-4ded-a279-bc3e1e89da72.png', '27898689-d8c6-4b37-9b0a-416903f3457f.png', '2fe43136-85b5-44d9-9540-dcdf3c3c6916.png', '35fcebc6-b85a-4306-bacf-5d064debdd71.png', '373c1177-4ba1-4648-b7e2-b247ec0fe263.png', '4010f7ba-5de9-4dc0-9688-da8f4a50eefc.png', '41f85a89-becc-42d0-8f37-f55f19c6f976.png', '42809a8b-9748-4ff7-b657-68bbea6b3507.png', '44289653-1d6a-46cf-9c6f-17dc65b1f93e.png', '477ae9eb-8f9b-4c76-8443-170e795aa806.png', '48806201-978a-480d-9828-9feed321faa3.png', '4c00f30c-4e94-47b9-9449-beea80fd218a.png', '4c2cc0aa-299b-4f0b-8520-eab9d6e935ed.png', '4e52ac1e-89d5-4c2e-b350-4d935d6e4286.png', '502dd62d-9b62-4c84-81b7-de50aa1bb86f.png', '523dae73-2218-4223-ab2f-dca2dc2fe8a7.png', '538bfa13-ac5e-4a5d-b38f-cc48b4224560.png', '57bd9dc4-7448-4347-ae34-e7e8aea5b7d1.png', '58007ab4-5819-4867-8c8d-e35804e5ca49.png', '58e035b2-593b-412d-8144-d4abfdde5bcf.png', '5ed8aaf9-9c25-44a1-802d-4b512458c3fc.png', '6038c660-1495-4271-bc71-fd0199e30b63.png', '63c13e9d-0861-4c25-a908-42928fee9c1c.png', '647f2811-b723-40d5-bb82-16f719bda077.png', '66271a25-d3b4-454f-b685-601c8080241e.png', '69c5ca6e-42c2-443f-b0ec-06c4e56d4997.png', '6fe9b321-607f-4de1-b3f1-bc655af608ce.png', '7102687a-c736-4a28-be99-4c8004a2332b.png', '79ed8e24-7516-4fc6-979f-6a01101e6ae5.png', '7c17ae5a-5d13-4010-9e8e-59727861b1cc.png', '7dd4dbce-1413-4cec-9fbb-33fb7be7da17.png', '8177fdc3-47ac-420b-a395-1b96a2edbd4b.png', '8ac22694-0880-4455-b90f-b9ba7a7364da.png', '8b618908-e3d7-48e9-a02d-cb35cfacda18.png', '8f74f527-6bf0-49cb-857a-67bb72da20ef.png', '9101ab6f-e809-43c9-8978-8c07090789d3.png', '91a078c1-256a-4350-a75f-00e033f294d5.png', '91d8db42-5f86-47a9-b5e4-b82f4d931a7e.png', '928ec70a-8168-4d2f-a582-d6c47aa6e436.png', '92cb6d18-4f3d-4f6f-9a87-87aefab9ce47.png', '94451197-1a49-46fa-8dea-f376d79631bf.png', '9529cd92-3f56-49ba-b886-7ab79affb6cf.png', '9adad439-4fb3-47e7-97f8-1b1806f24a99.png', '9b8855f2-869e-4f42-bdf4-94a22db6f22b.png', '9f485c5f-2544-4be6-89a0-0fcd4fc3f1e0.png', 'a219aceb-d840-415e-9064-ba6ca3cbba79.png', 'a2d1fe71-052c-4fe7-8c19-f66fed3b4ff5.png', 'a7c24176-6a79-4cf7-a605-97d52024edcb.png', 'a8750938-759b-4a02-b04d-8c61c74a552a.png', 'b122aeb3-6799-4a7a-bd69-75779a1dccbe.png', 'b2d96039-8733-42e5-9ac2-6558dc4c19a9.png', 'b89380f8-0d5f-40b7-807e-a02c7459989d.png', 'bc359e73-18a4-48ff-b2b1-308399ad5c14.png', 'bc3f1dd1-41b9-4eb4-a55c-fdc350b0248c.png', 'bf9a60d8-371c-462b-a91b-6800a8857f6c.png', 'bfb4a5b6-3cce-442c-9f36-803bde7fdf1d.png', 'c0a04ffd-3ec2-4342-888d-0524751e7801.png', 'c3c4a756-ef6d-4b59-a614-a907e1f04f82.png', 'c41cddab-b88b-441f-9fd3-4e23c7fff1ae.png', 'c51a3838-df60-4667-b8d7-6ac4a4d0b9b0.png', 'c69e79db-2de6-4122-a9f1-2fc7d8c63565.png', 'c96d368b-7bb8-449a-99af-e9527fa8914b.png', 'cc8d4c0d-e813-4149-9a7c-1936fc11033a.png', 'cf21d414-6914-4a4b-b2c8-0f7f9942ccc3.png', 'd37db135-33ee-436e-a421-f51172cd902c.png', 'd683d101-d4b0-4049-891a-d7ad632fadb1.png', 'd9b3fe7a-d878-4d7d-a7e1-0d9a7f07e59e.png', 'deb4f3f6-67b3-4a95-840d-b9b7d85e2ee1.png', 'e15f4fcc-5da5-463a-9e3e-bb4d2a622b46.png', 'e2870aae-2a0f-4b45-98fa-63526a91e99e.png', 'e3333195-4192-4ae5-9530-df8238ff1b24.png', 'e4cabbbc-afbf-4bb3-9f12-ab39498f9fd1.png', 'e5736ea0-525b-4d42-8269-2b57bfa88ebc.png', 'e78b7e4e-c570-47b0-aee9-89c4c0c7d18c.png', 'e92061c8-1abb-46da-9a97-9302cdfe6dfd.png', 'eb8ba99b-248a-46f8-8f25-d4f66e14d1b3.png', 'ed0e3ccd-599b-4901-a4c7-8bc3e45f9725.png', 'efe21f4d-816c-4554-be08-99e75fe0721b.png', 'f0ae2a98-1a5a-4d0b-99af-1038e4935ae6.png', 'f1f333bd-4e04-4638-98be-0f2649000c9b.png', 'f3266fcf-d0f7-41d4-ab27-692ba8b04124.png', 'f3fcbc12-3fb3-4207-8178-6cd415f506e1.png', 'f5543519-9537-485c-9a9b-f68424b8e857.png', 'f638382c-5a70-47be-92d8-35484dd89ac8.png', 'f9d0304e-69ac-40ed-a305-dcd2149bf5a7.png', 'fab2c0c3-a032-4d60-995e-669771651c3a.png', 'fb10c082-7307-437f-bc29-046c48fc543e.png', 'fbee7456-7535-4422-9765-ac14d8145b57.png', 'fc902c51-da8b-4f41-b6c4-96619dfff8cb.png', 'feaa7cfb-3b51-475b-8d24-cdc919632f0f.png']\n"
     ]
    }
   ],
   "source": [
    "images=[]\n",
    "for  _,_, files in os.walk(path + \"images\"):\n",
    "    for name in files:\n",
    "        images.append(name)\n",
    "print(images)"
   ]
  },
  {
   "cell_type": "code",
   "execution_count": null,
   "metadata": {},
   "outputs": [],
   "source": [
    "for polygon in image.getchildren():\n",
    "        polygon_points = [e.split(',') for e in polygon.attrib['points'].split(';')]\n",
    "        polygon_points = [(int(float(x)), int(float(y))) for x, y in ploygon_points]\n",
    "        polygons.append(polygon_points)\n",
    "        bounding_box = cv.boundingRect(np.array(ploygon_points, np.int32))\n",
    "        bounding_boxes.append(bounding_box)"
   ]
  },
  {
   "cell_type": "code",
   "execution_count": null,
   "metadata": {},
   "outputs": [],
   "source": []
  },
  {
   "cell_type": "code",
   "execution_count": 30,
   "metadata": {},
   "outputs": [
    {
     "name": "stdout",
     "output_type": "stream",
     "text": [
      "[]\n"
     ]
    }
   ],
   "source": [
    "from xml.dom import minidom\n",
    "xmldoc = minidom.parse(filepath)\n",
    "itemlist = xmldoc.getElementsByTagName('image')\n",
    "images=[]\n",
    "#for i in root.iter('image'):\n",
    "    for i in itemlist:\n",
    "        img = i.attributes[\"name\"].value\n",
    "        #images.append(img)\n",
    "\n",
    "print(images)"
   ]
  },
  {
   "cell_type": "code",
   "execution_count": 15,
   "metadata": {},
   "outputs": [
    {
     "ename": "AttributeError",
     "evalue": "'NoneType' object has no attribute 'shape'",
     "output_type": "error",
     "traceback": [
      "\u001b[1;31m---------------------------------------------------------------------------\u001b[0m",
      "\u001b[1;31mAttributeError\u001b[0m                            Traceback (most recent call last)",
      "\u001b[1;32m~\\AppData\\Local\\Temp\\ipykernel_16108\\2202347618.py\u001b[0m in \u001b[0;36m<module>\u001b[1;34m\u001b[0m\n\u001b[0;32m      4\u001b[0m     \u001b[0mimage\u001b[0m \u001b[1;33m=\u001b[0m \u001b[0mroot\u001b[0m\u001b[1;33m.\u001b[0m\u001b[0mxpath\u001b[0m\u001b[1;33m(\u001b[0m\u001b[1;34mf\"//image[@name='{img}.png']\"\u001b[0m\u001b[1;33m)\u001b[0m\u001b[1;33m\u001b[0m\u001b[1;33m\u001b[0m\u001b[0m\n\u001b[0;32m      5\u001b[0m     \u001b[0mi\u001b[0m \u001b[1;33m=\u001b[0m \u001b[0mcv\u001b[0m\u001b[1;33m.\u001b[0m\u001b[0mimread\u001b[0m\u001b[1;33m(\u001b[0m\u001b[0mimg\u001b[0m \u001b[1;33m+\u001b[0m \u001b[1;34m\"png\"\u001b[0m\u001b[1;33m)\u001b[0m\u001b[1;33m\u001b[0m\u001b[1;33m\u001b[0m\u001b[0m\n\u001b[1;32m----> 6\u001b[1;33m     \u001b[0mmask\u001b[0m \u001b[1;33m=\u001b[0m \u001b[0mnp\u001b[0m\u001b[1;33m.\u001b[0m\u001b[0mzeros\u001b[0m\u001b[1;33m(\u001b[0m\u001b[0mi\u001b[0m\u001b[1;33m.\u001b[0m\u001b[0mshape\u001b[0m\u001b[1;33m[\u001b[0m\u001b[1;36m0\u001b[0m\u001b[1;33m:\u001b[0m\u001b[1;36m2\u001b[0m\u001b[1;33m]\u001b[0m\u001b[1;33m,\u001b[0m \u001b[0mdtype\u001b[0m\u001b[1;33m=\u001b[0m\u001b[0mnp\u001b[0m\u001b[1;33m.\u001b[0m\u001b[0muint8\u001b[0m\u001b[1;33m)\u001b[0m\u001b[1;33m\u001b[0m\u001b[1;33m\u001b[0m\u001b[0m\n\u001b[0m\u001b[0;32m      7\u001b[0m     \u001b[0mregion\u001b[0m \u001b[1;33m=\u001b[0m \u001b[1;33m(\u001b[0m\u001b[1;36m591.00\u001b[0m\u001b[1;33m,\u001b[0m \u001b[1;36m2785.09\u001b[0m\u001b[1;33m)\u001b[0m\u001b[1;33m,\u001b[0m \u001b[1;33m(\u001b[0m\u001b[1;36m995.60\u001b[0m\u001b[1;33m,\u001b[0m \u001b[1;36m2811.70\u001b[0m\u001b[1;33m)\u001b[0m\u001b[1;33m,\u001b[0m \u001b[1;33m(\u001b[0m\u001b[1;36m994.70\u001b[0m\u001b[1;33m,\u001b[0m \u001b[1;36m2847.10\u001b[0m\u001b[1;33m)\u001b[0m\u001b[1;33m,\u001b[0m \u001b[1;33m(\u001b[0m\u001b[1;36m591.72\u001b[0m\u001b[1;33m,\u001b[0m \u001b[1;36m2818.13\u001b[0m\u001b[1;33m)\u001b[0m\u001b[1;33m\u001b[0m\u001b[1;33m\u001b[0m\u001b[0m\n\u001b[0;32m      8\u001b[0m     \u001b[0mpoints\u001b[0m \u001b[1;33m=\u001b[0m \u001b[0mnp\u001b[0m\u001b[1;33m.\u001b[0m\u001b[0marray\u001b[0m\u001b[1;33m(\u001b[0m\u001b[0mregion\u001b[0m\u001b[1;33m,\u001b[0m \u001b[0mnp\u001b[0m\u001b[1;33m.\u001b[0m\u001b[0mint32\u001b[0m\u001b[1;33m)\u001b[0m\u001b[1;33m\u001b[0m\u001b[1;33m\u001b[0m\u001b[0m\n",
      "\u001b[1;31mAttributeError\u001b[0m: 'NoneType' object has no attribute 'shape'"
     ]
    }
   ],
   "source": [
    "for img in images:\n",
    "    #xml_data = objectify.parse(filepath)\n",
    "    #root = xml_data.getroot()\n",
    "    #image = root.xpath(f\"//image[@name='{img}.png']\")\n",
    "    i = cv.imread(img ) #is without the png\n",
    "    mask = np.zeros(i.shape[0:2], dtype=np.uint8)\n",
    "    region = (591.00, 2785.09), (995.60, 2811.70), (994.70, 2847.10), (591.72, 2818.13)\n",
    "    points = np.array(region, np.int32)\n",
    "    #smooth region\n",
    "    cv.drawContours(mask, [points], -1, (255, 255, 255), -1, cv.LINE_AA)\n",
    "    #not so smooth region\n",
    "    res = cv.bitwise_and(img,img,mask = mask)\n",
    "    rect = cv.boundingRect(points) # returns (x,y,w,h) of the rect\n",
    "    cropped = res[rect[1]: rect[1] + rect[3], rect[0]: rect[0] + rect[2]]\n",
    "    wbg = np.ones_like(img, np.uint8)*255\n",
    "    cv.bitwise_not(wbg,wbg, mask=mask)\n",
    "    dst = wbg+res\n",
    "    cv.imshow('Original',img)\n",
    "    cv.imshow(\"Mask\",mask)\n",
    "    cv.imshow(\"Cropped\", cropped )\n",
    "    cv.imshow(\"Samed Size Black Image\", res)\n",
    "    cv.imshow(\"Samed Size White Image\", dst)\n",
    "    cv.waitKey(0)\n",
    "    cv.imwrite(f'C:/Users/Miranda/Documents/Norditech_project/label-project/data_2/polygon/crop_{img}.png',cropped)\n",
    "#cv.destroyAllWindows()"
   ]
  },
  {
   "cell_type": "code",
   "execution_count": null,
   "metadata": {
    "scrolled": false
   },
   "outputs": [],
   "source": [
    "labels = []\n",
    "i = 0\n",
    "for child in tree.getroot():\n",
    "    if child.tag == 'image':\n",
    "        img = cv.imread('dataset/data_2/images/' + child.attrib['name'], cv.IMREAD_GRAYSCALE)\n",
    "        for polygon in child:\n",
    "            points = [[int(float(p)) for p in e.split(',')] for e in polygon.attrib['points'].split(';')]\n",
    "            points = np.array(points, dtype=np.int32)\n",
    "            mask = np.zeros(img.shape[0:2], dtype=np.uint8)\n",
    "            cv.drawContours(mask, [points], -1, (255, 255, 255), -1, cv.LINE_AA)\n",
    "            masked_img = img & mask\n",
    "            rect = cv.boundingRect(points)\n",
    "            out = masked_img[rect[1]: rect[1] + rect[3], rect[0]: rect[0] + rect[2]]\n",
    "            labels.append(polygon[0].text)\n",
    "            cv.imwrite(f'dataset/data_2/poly_crops/{str(i).zfill(5)}.png', out)\n",
    "            i += 1\n",
    "df = pd.DataFrame(labels)\n",
    "pd.to_csv('dataset/data_2/poly_labels.csv', header=False, index=False)"
   ]
  },
  {
   "cell_type": "code",
   "execution_count": 63,
   "metadata": {},
   "outputs": [
    {
     "data": {
      "text/html": [
       "<div>\n",
       "<style scoped>\n",
       "    .dataframe tbody tr th:only-of-type {\n",
       "        vertical-align: middle;\n",
       "    }\n",
       "\n",
       "    .dataframe tbody tr th {\n",
       "        vertical-align: top;\n",
       "    }\n",
       "\n",
       "    .dataframe thead th {\n",
       "        text-align: right;\n",
       "    }\n",
       "</style>\n",
       "<table border=\"1\" class=\"dataframe\">\n",
       "  <thead>\n",
       "    <tr style=\"text-align: right;\">\n",
       "      <th></th>\n",
       "      <th>0</th>\n",
       "    </tr>\n",
       "  </thead>\n",
       "  <tbody>\n",
       "    <tr>\n",
       "      <th>0</th>\n",
       "      <td>test</td>\n",
       "    </tr>\n",
       "    <tr>\n",
       "      <th>1</th>\n",
       "      <td>test2</td>\n",
       "    </tr>\n",
       "    <tr>\n",
       "      <th>2</th>\n",
       "      <td>test3</td>\n",
       "    </tr>\n",
       "  </tbody>\n",
       "</table>\n",
       "</div>"
      ],
      "text/plain": [
       "       0\n",
       "0   test\n",
       "1  test2\n",
       "2  test3"
      ]
     },
     "execution_count": 63,
     "metadata": {},
     "output_type": "execute_result"
    }
   ],
   "source": []
  }
 ],
 "metadata": {
  "kernelspec": {
   "display_name": "Python 3 (ipykernel)",
   "language": "python",
   "name": "python3"
  },
  "language_info": {
   "codemirror_mode": {
    "name": "ipython",
    "version": 3
   },
   "file_extension": ".py",
   "mimetype": "text/x-python",
   "name": "python",
   "nbconvert_exporter": "python",
   "pygments_lexer": "ipython3",
   "version": "3.9.13"
  },
  "vscode": {
   "interpreter": {
    "hash": "1ea9ec25287797b0e922f42dff0507084b764268751e4ebf135f9160733dc98e"
   }
  }
 },
 "nbformat": 4,
 "nbformat_minor": 2
}
