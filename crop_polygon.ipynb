{
 "cells": [
  {
   "cell_type": "code",
   "execution_count": null,
   "metadata": {},
   "outputs": [],
   "source": [
    "import cv2 as cv\n",
    "import os\n",
    "import matplotlib.pyplot as plt\n",
    "import numpy as np\n",
    "import pandas as pd\n",
    "#pip install lxml\n",
    "#from lxml import objectify\n",
    "#from os import listdir\n",
    "import xml.etree.ElementTree as ET"
   ]
  },
  {
   "cell_type": "code",
   "execution_count": null,
   "metadata": {},
   "outputs": [],
   "source": [
    "path = 'dataset/data_2/'\n",
    "xml_in = 'dataset/annotations.xml'"
   ]
  },
  {
   "cell_type": "code",
   "execution_count": null,
   "metadata": {},
   "outputs": [],
   "source": [
    "tree = ET.parse(xml_in)\n",
    "root = tree.getroot()\n",
    "root.tag"
   ]
  },
  {
   "cell_type": "code",
   "execution_count": null,
   "metadata": {
    "scrolled": false
   },
   "outputs": [],
   "source": [
    "labels = []\n",
    "i = 0\n",
    "for child in tree.getroot():\n",
    "    if child.tag == 'image':\n",
    "        img = cv.imread(path + 'images/' + child.attrib['name'], cv.IMREAD_GRAYSCALE)\n",
    "        for polygon in child:\n",
    "            points = [[int(float(p)) for p in e.split(',')] for e in polygon.attrib['points'].split(';')]\n",
    "            points = np.array(points, dtype=np.int32)\n",
    "            mask = np.zeros(img.shape[0:2], dtype=np.uint8)\n",
    "            cv.drawContours(mask, [points], -1, (255, 255, 255), -1, cv.LINE_AA)\n",
    "            masked_img = img & mask\n",
    "            rect = cv.boundingRect(points)\n",
    "            out = masked_img[rect[1]: rect[1] + rect[3], rect[0]: rect[0] + rect[2]]\n",
    "            labels.append(polygon[0].text)\n",
    "            cv.imwrite(path + f'poly_crops/{str(i).zfill(5)}.png', out)\n",
    "            i += 1\n",
    "df = pd.DataFrame(labels)\n",
    "pd.to_csv(path + 'poly_labels.csv', header=False, index=False)"
   ]
  }
 ],
 "metadata": {
  "kernelspec": {
   "display_name": "Python 3 (ipykernel)",
   "language": "python",
   "name": "python3"
  },
  "language_info": {
   "codemirror_mode": {
    "name": "ipython",
    "version": 3
   },
   "file_extension": ".py",
   "mimetype": "text/x-python",
   "name": "python",
   "nbconvert_exporter": "python",
   "pygments_lexer": "ipython3",
   "version": "3.9.13"
  },
  "vscode": {
   "interpreter": {
    "hash": "1ea9ec25287797b0e922f42dff0507084b764268751e4ebf135f9160733dc98e"
   }
  }
 },
 "nbformat": 4,
 "nbformat_minor": 2
}
