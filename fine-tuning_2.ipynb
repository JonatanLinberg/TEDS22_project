{
 "cells": [
  {
   "cell_type": "code",
   "execution_count": null,
   "id": "91da14e5",
   "metadata": {},
   "outputs": [],
   "source": [
    "import tensorflow as tf\n",
    "from tensorflow.keras import layers\n",
    "import keras_ocr\n",
    "import matplotlib.pyplot as plt\n",
    "import cv2 as cv\n",
    "import numpy as np\n",
    "import pandas as pd\n",
    "from tensorflow.keras.applications import ResNet50 as PT_Model\n",
    "# from tensorflow.keras.applications import VGG16 as PT_Model"
   ]
  },
  {
   "cell_type": "code",
   "execution_count": null,
   "id": "1d11d43d",
   "metadata": {},
   "outputs": [],
   "source": [
    "# rec = keras_ocr.recognition.Recognizer()\n",
    "# rec.compile()"
   ]
  },
  {
   "cell_type": "code",
   "execution_count": null,
   "id": "d26b9d87",
   "metadata": {},
   "outputs": [],
   "source": [
    "image_size = (32, 200)\n",
    "MAX_LABEL_LENGTH = 50\n",
    "FREEZE_PT_MODEL = False"
   ]
  },
  {
   "cell_type": "code",
   "execution_count": null,
   "id": "85cab147",
   "metadata": {},
   "outputs": [],
   "source": [
    "alphabet = (' ', '0', '1', '2', '3', '4', '5', '6', '7', '8', '9', \\\n",
    "            'A', 'B', 'C', 'D', 'E', 'F', 'G', 'H', 'I', 'J', 'K', 'L', 'M', 'N', \\\n",
    "            'O', 'P', 'Q', 'R', 'S', 'T', 'U', 'V', 'W', 'X', 'Y', 'Z', 'Å', 'Ä', 'Ö',\\\n",
    "            '-', ',', '/'\n",
    "           )\n",
    "to_alphabet = {i:key for i, key in enumerate(alphabet)}\n",
    "to_class = {key:i for i,key in enumerate(alphabet)}\n",
    "\n",
    "N_CLASSES = len(alphabet)"
   ]
  },
  {
   "cell_type": "markdown",
   "id": "e5c6767a",
   "metadata": {},
   "source": [
    "## Load Data"
   ]
  },
  {
   "cell_type": "code",
   "execution_count": null,
   "id": "10927ee4",
   "metadata": {},
   "outputs": [],
   "source": [
    "train_ds = tf.keras.preprocessing.image_dataset_from_directory(\n",
    "    \"dataset/data_2/poly_crops\",\n",
    "    validation_split=0.2,\n",
    "    subset=\"training\",\n",
    "    label_mode=None,\n",
    "    seed=None,\n",
    "    shuffle=False,\n",
    "    batch_size=None,\n",
    "    image_size=image_size\n",
    ")\n",
    "\n",
    "val_ds = tf.keras.preprocessing.image_dataset_from_directory(\n",
    "    \"dataset/data_2/poly_crops\",\n",
    "    validation_split=0.2,\n",
    "    subset=\"validation\",\n",
    "    label_mode=None,\n",
    "    seed=None,\n",
    "    shuffle=False,\n",
    "    batch_size=None,\n",
    "    image_size=image_size\n",
    ")"
   ]
  },
  {
   "cell_type": "code",
   "execution_count": null,
   "id": "09454d99",
   "metadata": {},
   "outputs": [],
   "source": [
    "def scale_0_1(data):\n",
    "    return data / 255\n",
    "\n",
    "def to_gray_scale(data):\n",
    "    return data[:,:,0:1]"
   ]
  },
  {
   "cell_type": "code",
   "execution_count": null,
   "id": "243bc274",
   "metadata": {},
   "outputs": [],
   "source": [
    "#train_ds = train_ds.map(scale_0_1)\n",
    "# #train_ds = train_ds.map(to_gray_scale)\n",
    "\n",
    "#val_ds = val_ds.map(scale_0_1)\n",
    "# #val_ds = val_ds.map(to_gray_scale)"
   ]
  },
  {
   "cell_type": "markdown",
   "id": "e71fbab7",
   "metadata": {},
   "source": [
    "### Labels"
   ]
  },
  {
   "cell_type": "code",
   "execution_count": null,
   "id": "ebb2d225",
   "metadata": {},
   "outputs": [],
   "source": [
    "df = pd.read_csv('dataset/data_2/poly_labels.csv', header=None)\n",
    "train_df = df.values[:len(train_ds)]\n",
    "val_df = df.values[len(train_ds):]"
   ]
  },
  {
   "cell_type": "code",
   "execution_count": null,
   "id": "f992c3d2-5134-420d-a275-b574f4ca88ab",
   "metadata": {},
   "outputs": [],
   "source": [
    "train_df"
   ]
  },
  {
   "cell_type": "code",
   "execution_count": null,
   "id": "ac9f9244",
   "metadata": {
    "scrolled": true
   },
   "outputs": [],
   "source": [
    "def format_labels(labels, max_len=50, n_classes=37):\n",
    "    labels = labels.astype(str)\n",
    "    max_length_found = np.max([len(s[0]) for s in labels])\n",
    "    if (max_length_found > max_len):\n",
    "        print(f'WARNING! Labels are truncated to {max_len} characters.')\n",
    "    out = np.zeros((labels.shape[0], max_len, n_classes), dtype=int)\n",
    "\n",
    "    for i,label in enumerate(labels):\n",
    "        label = np.char.upper(label)[0]\n",
    "        for j,char in enumerate(label):\n",
    "            try:\n",
    "                out[i, j, to_class[char]] = 1\n",
    "            except KeyError:\n",
    "                pass #out[i, j, to_class[' ']] =  1 # not a character in alphabet\n",
    "        for k in range(j+1,max_len):\n",
    "            out[i, k, 0] = 1\n",
    "    return out\n",
    "\n",
    "train_df = format_labels(train_df, max_len=MAX_LABEL_LENGTH, n_classes=N_CLASSES)\n",
    "val_df = format_labels(val_df, max_len=MAX_LABEL_LENGTH, n_classes=N_CLASSES)"
   ]
  },
  {
   "cell_type": "code",
   "execution_count": null,
   "id": "af5353fc",
   "metadata": {},
   "outputs": [],
   "source": [
    "train_lbl = tf.data.Dataset.from_tensor_slices(train_df)\n",
    "val_lbl = tf.data.Dataset.from_tensor_slices(val_df)"
   ]
  },
  {
   "cell_type": "code",
   "execution_count": null,
   "id": "63dba412",
   "metadata": {},
   "outputs": [],
   "source": [
    "for a in train_lbl.take(1):\n",
    "    print(a[0])"
   ]
  },
  {
   "cell_type": "code",
   "execution_count": null,
   "id": "8445cc6e",
   "metadata": {},
   "outputs": [],
   "source": [
    "BATCH_SIZE = 32\n",
    "\n",
    "train_ds = tf.data.Dataset.zip((train_ds, train_lbl))\n",
    "train_ds = train_ds.batch(BATCH_SIZE)\n",
    "\n",
    "val_ds = tf.data.Dataset.zip((val_ds, val_lbl))\n",
    "val_ds = val_ds.batch(BATCH_SIZE)"
   ]
  },
  {
   "cell_type": "code",
   "execution_count": null,
   "id": "2315925f-14f5-435f-98f7-8ee015af0ddc",
   "metadata": {},
   "outputs": [],
   "source": [
    "# for a,b in train_ds:\n",
    "#     print(a.shape)\n",
    "#     print(b.shape)\n",
    "#     break"
   ]
  },
  {
   "cell_type": "code",
   "execution_count": null,
   "id": "1d639766-4a47-4530-a482-ba2bb683b894",
   "metadata": {},
   "outputs": [],
   "source": [
    "train_lbl"
   ]
  },
  {
   "cell_type": "markdown",
   "id": "c7b985d7",
   "metadata": {},
   "source": [
    "## Model"
   ]
  },
  {
   "cell_type": "code",
   "execution_count": null,
   "id": "0c7686bb",
   "metadata": {
    "scrolled": true
   },
   "outputs": [],
   "source": [
    "pt_model = PT_Model(\n",
    "    include_top=False,\n",
    "    # weights='imagenet',\n",
    "    input_shape=(*image_size, 3),\n",
    ")\n",
    "# import tensorflow as tf\n",
    "\n",
    "# from tensorflow.keras import datasets, layers, models\n",
    "# import matplotlib.pyplot as plt\n",
    "\n",
    "pt_input = pt_model.layers[0].input\n",
    "pt_output = pt_model.get_layer(name='conv3_block1_out').output\n",
    "pt_model = tf.keras.Model(pt_input, pt_output)\n",
    "# pt_model = models.Sequential()\n",
    "# pt_model.add(layers.Conv2D(32, (3, 3), activation='relu', input_shape=(*image_size, 3)))\n",
    "# pt_model.add(layers.MaxPooling2D((2, 2)))\n",
    "# pt_model.add(layers.Conv2D(64, (3, 3), activation='relu'))\n",
    "# pt_model.add(layers.MaxPooling2D((2, 2)))\n",
    "# pt_model.add(layers.Conv2D(64, (3, 3), activation='relu'))\n",
    "\n",
    "\n",
    "def make_head(feature_shape, n_char = 50, n_classes = 37):\n",
    "    inputs = tf.keras.Input(shape=feature_shape)\n",
    "    x = layers.BatchNormalization()(inputs)\n",
    "    x = layers.Reshape((feature_shape[-2]*feature_shape[-3], feature_shape[-1]))(x)\n",
    "    x = layers.Conv1D(1024, 3, strides=2, padding='same')(x)\n",
    "    x = layers.Conv1D(256,3,strides=1, padding='same')(x)\n",
    "    # print(x.shape)\n",
    "    x = layers.Flatten()(x)\n",
    "    # print(x.shape)\n",
    "    x = layers.Dense(n_char * n_classes)(x)\n",
    "    outputs = layers.Reshape((n_char, n_classes))(x)\n",
    "    outputs = layers.Softmax(axis=-2)(outputs)\n",
    "    # # outputs = layers.LSTM(n_classes, activation='softmax', return_sequences=True)(x)\n",
    "    # outputs = layers.LSTM(n_classes, activation='softmax', return_sequences=True)(x)\n",
    "    # print(outputs.shape)\n",
    "    return tf.keras.Model(inputs, outputs)\n",
    "\n",
    "pt_model.trainable = not FREEZE_PT_MODEL\n",
    "head = make_head(pt_model.output_shape[1:], n_char = MAX_LABEL_LENGTH, n_classes=N_CLASSES)\n",
    "head.summary()"
   ]
  },
  {
   "cell_type": "code",
   "execution_count": null,
   "id": "243fd0b2-c27c-4b73-8a17-b06134fe4876",
   "metadata": {
    "scrolled": true
   },
   "outputs": [],
   "source": [
    "N_CLASSES"
   ]
  },
  {
   "cell_type": "code",
   "execution_count": null,
   "id": "c25f3724-7e54-4f69-b5fe-e9449933ced3",
   "metadata": {},
   "outputs": [],
   "source": [
    "pt_model.output_shape[1:]"
   ]
  },
  {
   "cell_type": "code",
   "execution_count": null,
   "id": "37e52dd1",
   "metadata": {},
   "outputs": [],
   "source": [
    "pt_model.summary()"
   ]
  },
  {
   "cell_type": "code",
   "execution_count": null,
   "id": "b22b2303",
   "metadata": {
    "scrolled": false
   },
   "outputs": [],
   "source": [
    "model = tf.keras.Sequential([\n",
    "    pt_model,\n",
    "    head\n",
    "])\n",
    "\n",
    "model.summary()"
   ]
  },
  {
   "cell_type": "markdown",
   "id": "bb6bf021",
   "metadata": {},
   "source": [
    "## Train model"
   ]
  },
  {
   "cell_type": "code",
   "execution_count": null,
   "id": "3482d382",
   "metadata": {
    "scrolled": false
   },
   "outputs": [],
   "source": [
    "model.compile(\n",
    "    optimizer=tf.keras.optimizers.Adam(learning_rate=1e-4),\n",
    "    loss=tf.keras.losses.CategoricalCrossentropy(),\n",
    "    metrics=[tf.keras.metrics.CategoricalAccuracy()]\n",
    ")\n",
    "\n",
    "model.fit(train_ds, validation_data=val_ds, epochs=10)"
   ]
  },
  {
   "cell_type": "code",
   "execution_count": null,
   "id": "e68dbff4",
   "metadata": {},
   "outputs": [],
   "source": [
    "model_name = 'final_model1'\n",
    "if FREEZE_PT_MODEL:\n",
    "    model_name += '_frozen'\n",
    "\n",
    "model.save(f'model/{model_name}.h5')"
   ]
  },
  {
   "cell_type": "code",
   "execution_count": null,
   "id": "c042ba31",
   "metadata": {
    "scrolled": false
   },
   "outputs": [],
   "source": [
    "test_ds = val_ds.unbatch()\n",
    "for img, label in test_ds.take(-1):\n",
    "#    print(img.shape)\n",
    "    y = np.argmax(label, 1)\n",
    "    plt.imshow(img / 256)\n",
    "    plt.axis('off')\n",
    "    plt.show()\n",
    "    plt.close()\n",
    "    \n",
    "    y_ = model(np.reshape(img, (1, 32, 200, 3)))\n",
    "    y_ = np.argmax(y_, 2)\n",
    "#    print(y_.shape)\n",
    "#    print(y.shape)\n",
    "    print(''.join([to_alphabet[a] for a in y]))\n",
    "    print(''.join([to_alphabet[a] for a in y_[0]]))"
   ]
  }
 ],
 "metadata": {
  "kernelspec": {
   "display_name": "Python 3 (ipykernel)",
   "language": "python",
   "name": "python3"
  },
  "language_info": {
   "codemirror_mode": {
    "name": "ipython",
    "version": 3
   },
   "file_extension": ".py",
   "mimetype": "text/x-python",
   "name": "python",
   "nbconvert_exporter": "python",
   "pygments_lexer": "ipython3",
   "version": "3.9.13"
  }
 },
 "nbformat": 4,
 "nbformat_minor": 5
}
