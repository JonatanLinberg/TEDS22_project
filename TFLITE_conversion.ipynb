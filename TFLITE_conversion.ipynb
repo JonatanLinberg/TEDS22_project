{
 "cells": [
  {
   "cell_type": "code",
   "execution_count": null,
   "id": "3c4f02b7",
   "metadata": {},
   "outputs": [],
   "source": [
    "import tensorflow.lite as tflite\n",
    "from tensorflow.keras.models import load_model"
   ]
  },
  {
   "cell_type": "code",
   "execution_count": null,
   "id": "487c3153",
   "metadata": {
    "scrolled": false
   },
   "outputs": [],
   "source": [
    "# load keras model\n",
    "model = load_model('model/final_model1.h5')"
   ]
  },
  {
   "cell_type": "code",
   "execution_count": null,
   "id": "43cbb1b0",
   "metadata": {
    "scrolled": false
   },
   "outputs": [],
   "source": [
    "# convert to tflite\n",
    "converter = tflite.TFLiteConverter.from_keras_model(model)\n",
    "tflite_model = converter.convert()"
   ]
  },
  {
   "cell_type": "code",
   "execution_count": null,
   "id": "ebb217fb",
   "metadata": {},
   "outputs": [],
   "source": [
    "# write to file\n",
    "with open('model/compressed_model.tflite', 'wb') as f:\n",
    "    f.write(tflite_model)"
   ]
  }
 ],
 "metadata": {
  "kernelspec": {
   "display_name": "Python 3 (ipykernel)",
   "language": "python",
   "name": "python3"
  },
  "language_info": {
   "codemirror_mode": {
    "name": "ipython",
    "version": 3
   },
   "file_extension": ".py",
   "mimetype": "text/x-python",
   "name": "python",
   "nbconvert_exporter": "python",
   "pygments_lexer": "ipython3",
   "version": "3.9.13"
  }
 },
 "nbformat": 4,
 "nbformat_minor": 5
}
